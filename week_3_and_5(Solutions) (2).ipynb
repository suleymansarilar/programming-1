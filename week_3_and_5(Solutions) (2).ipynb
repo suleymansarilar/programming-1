{
 "cells": [
  {
   "cell_type": "markdown",
   "id": "d9d8329c-19ea-4e15-ba38-630b5b5f5faa",
   "metadata": {},
   "source": [
    "# Built-in functions"
   ]
  },
  {
   "cell_type": "markdown",
   "id": "8a08f1c1-ac89-4fb1-a545-89d8ca7ab607",
   "metadata": {},
   "source": [
    "Let's deal with some built-in functions in Python. In the present section we will also see how to import built-in modules like **math** module that come pre-installed on Python."
   ]
  },
  {
   "cell_type": "markdown",
   "id": "fa9872cf-ac47-4155-bed4-fa8230bb580f",
   "metadata": {},
   "source": [
    "## Some simple function calls:"
   ]
  },
  {
   "cell_type": "markdown",
   "id": "63c10709-857d-4155-9e9e-39ff3f9c858a",
   "metadata": {},
   "source": [
    "### **Task 1:**\n",
    "Convert **\"5\"** to an integer and print the value."
   ]
  },
  {
   "cell_type": "code",
   "execution_count": 41,
   "id": "144e1177-9e39-478a-84d7-a45dfa5f18de",
   "metadata": {},
   "outputs": [
    {
     "name": "stdout",
     "output_type": "stream",
     "text": [
      "5\n"
     ]
    }
   ],
   "source": [
    "# Your code below:\n",
    "# -------------------\n",
    "\n",
    "print(int(\"5\"))"
   ]
  },
  {
   "cell_type": "markdown",
   "id": "78ef9b1e-9aa4-4b73-ba7c-cd6d55422157",
   "metadata": {},
   "source": [
    "**Expected output:** 5"
   ]
  },
  {
   "cell_type": "markdown",
   "id": "7d1326f2-3136-4edb-8f73-fd0dae5ebf4a",
   "metadata": {},
   "source": [
    "### **Task 2:**\n",
    "Convert **\"5\"** to an integer and print the data-type."
   ]
  },
  {
   "cell_type": "code",
   "execution_count": 42,
   "id": "1269e5ba-e8fd-4e44-9b54-417e387346eb",
   "metadata": {},
   "outputs": [
    {
     "name": "stdout",
     "output_type": "stream",
     "text": [
      "<class 'int'>\n"
     ]
    }
   ],
   "source": [
    "# Your code below:\n",
    "# -------------------\n",
    "\n",
    "print(type(int(\"5\")))"
   ]
  },
  {
   "cell_type": "markdown",
   "id": "a9f70907-648b-4eb1-b59c-6b850b9b2f70",
   "metadata": {},
   "source": [
    "**Expected output:** <class 'int'> _(or)_ int"
   ]
  },
  {
   "cell_type": "markdown",
   "id": "5c5eef58-d556-4482-875c-9b00ba678251",
   "metadata": {},
   "source": [
    "### **Task 3:**\n",
    "Create a variable named **sample_float** and assign a value of **5.15** to it. Now convert the variable **sample_float** to an integer and print the output. \n",
    "\n",
    "**Note:** Observe what happens to the decimal value."
   ]
  },
  {
   "cell_type": "code",
   "execution_count": 43,
   "id": "d8de7f83-3ee7-44e0-aa19-d1273e9d39e1",
   "metadata": {},
   "outputs": [
    {
     "name": "stdout",
     "output_type": "stream",
     "text": [
      "5\n"
     ]
    }
   ],
   "source": [
    "# Your code below:\n",
    "# -------------------\n",
    "\n",
    "sample_float = 5.15\n",
    "print(int(sample_float))"
   ]
  },
  {
   "cell_type": "markdown",
   "id": "c3d44c88-6285-4af0-aaa6-f2d1b06dff59",
   "metadata": {},
   "source": [
    "**Expected output:** 5"
   ]
  },
  {
   "cell_type": "markdown",
   "id": "96936b92-a778-4f31-91c7-b5aa9ae68504",
   "metadata": {},
   "source": [
    "### **Task 4:**\n",
    "Create a variable named **sample_int** and assign a value of **5** to it. Now convert the variable **sample_int** to a float and print the outpu. \n",
    "\n",
    "**Note:** Observe what happens to the integer.\n"
   ]
  },
  {
   "cell_type": "code",
   "execution_count": 44,
   "id": "c34cf102-5db2-4769-901e-1e872ef077ef",
   "metadata": {},
   "outputs": [
    {
     "name": "stdout",
     "output_type": "stream",
     "text": [
      "5.0\n"
     ]
    }
   ],
   "source": [
    "# Your code below:\n",
    "# -------------------\n",
    "\n",
    "sample_int = 5\n",
    "print(float(sample_int))"
   ]
  },
  {
   "cell_type": "markdown",
   "id": "c1024f80-3674-46e8-adec-58ccc9a0ffd2",
   "metadata": {},
   "source": [
    "**Expected output:** 5.0"
   ]
  },
  {
   "cell_type": "markdown",
   "id": "211824b2-8d99-4e64-a2ea-0fe9b26ec46e",
   "metadata": {},
   "source": [
    "### **Task 5:**\n",
    "As you can see above we can conveniently convert between data-types in Python. However, some rules are applicable. Let's see one of those exceptions. Create a variable named **sample_string** and assign a value **\"this will not work\"** to it. Now try to convert the variable **sample_string** to an integer or a float."
   ]
  },
  {
   "cell_type": "code",
   "execution_count": 45,
   "id": "543c6f50-58e3-4e3a-beea-690b6651703a",
   "metadata": {},
   "outputs": [
    {
     "data": {
      "text/plain": [
       "'\\nSolution: Converting a string to an integer or float should make sense. Converting \"5\" to integer using int() makes sense but converting \\n\"this will not work\" to integer does not make sense.\\n'"
      ]
     },
     "execution_count": 45,
     "metadata": {},
     "output_type": "execute_result"
    }
   ],
   "source": [
    "# Your code below:\n",
    "# -------------------\n",
    "\n",
    "'''\n",
    "Solution: Converting a string to an integer or float should make sense. Converting \"5\" to integer using int() makes sense but converting \n",
    "\"this will not work\" to integer does not make sense.\n",
    "'''"
   ]
  },
  {
   "cell_type": "markdown",
   "id": "917846ac-b883-4241-a54d-723f8701f5d5",
   "metadata": {},
   "source": [
    "**Expected output:** ValueError: invalid literal for int()"
   ]
  },
  {
   "cell_type": "markdown",
   "id": "4627f027-5ba1-42df-94d1-94f2ebe52c33",
   "metadata": {},
   "source": [
    "### **Booleans:**\n",
    "\n",
    "Booleans are one of the built-in data-types of Python. They either evaluate to **True** or **False**. The boolean function in Python is called using **bool()**. Some values are considered as **False** in Python they are;\n",
    "\n",
    "**A. Numbers:**\n",
    "\n",
    "1. The integer **0**\n",
    "\n",
    "2. The floating value **0.0**\n",
    "\n",
    "3. Empty string **\"\"**\n",
    "\n",
    "**B. Constants:**\n",
    "\n",
    "1. False\n",
    "\n",
    "2. None\n",
    "\n",
    "**Note 1:** Every other value evaluates to **True** in Python.\n",
    "\n",
    "**Note 2:** There is something called as **Sequences and collections** that can also lead to **False** values. This will be convered later in the course.\n",
    "\n",
    "_**Now let's practise :-p**_"
   ]
  },
  {
   "cell_type": "markdown",
   "id": "29a4af6c-0f1d-4c4b-a73a-cdc92d9a833c",
   "metadata": {},
   "source": [
    "### **Task 1:**\n",
    "\n",
    "Evaluate the boolean of an empty string **\"\"** and print the value."
   ]
  },
  {
   "cell_type": "code",
   "execution_count": 46,
   "id": "88939b58-7bd4-45b5-903f-7721984df6a6",
   "metadata": {},
   "outputs": [
    {
     "name": "stdout",
     "output_type": "stream",
     "text": [
      "False\n"
     ]
    }
   ],
   "source": [
    "# Your code below:\n",
    "# -------------------\n",
    "\n",
    "print(bool(\"\"))"
   ]
  },
  {
   "cell_type": "markdown",
   "id": "a92da2c3-7dfa-4d02-b73f-c1ef576e973f",
   "metadata": {},
   "source": [
    "**Expected output:** False"
   ]
  },
  {
   "cell_type": "markdown",
   "id": "4902344f-7fa3-4a2a-8214-0fe2709f6b91",
   "metadata": {},
   "source": [
    "### **Task 2:**\n",
    "\n",
    "Evaluate the boolean of **\"False\"** and print the value."
   ]
  },
  {
   "cell_type": "code",
   "execution_count": 47,
   "id": "d29a207e-81ad-4efb-b7ea-f26c94f1bbd7",
   "metadata": {},
   "outputs": [
    {
     "name": "stdout",
     "output_type": "stream",
     "text": [
      "True\n"
     ]
    }
   ],
   "source": [
    "# Your code below:\n",
    "# -------------------\n",
    "\n",
    "print(bool(\"False\"))"
   ]
  },
  {
   "cell_type": "markdown",
   "id": "bce5f1e3-2ffb-44f3-9450-d75c1c12dcbf",
   "metadata": {},
   "source": [
    "**Expected output:** True"
   ]
  },
  {
   "cell_type": "markdown",
   "id": "2652439b-e10b-48d1-a95b-8d7b610608a4",
   "metadata": {},
   "source": [
    "### **Task 3:**\n",
    "\n",
    "Evaluate the boolean of **0.0** and print the value."
   ]
  },
  {
   "cell_type": "code",
   "execution_count": 48,
   "id": "270e2c24-fcf9-4fe9-9f96-bb1fa5bb8e30",
   "metadata": {},
   "outputs": [
    {
     "name": "stdout",
     "output_type": "stream",
     "text": [
      "False\n"
     ]
    }
   ],
   "source": [
    "# Your code below:\n",
    "# -------------------\n",
    "\n",
    "print(bool(0.0))"
   ]
  },
  {
   "cell_type": "markdown",
   "id": "42512005-fb26-4288-92f6-7e3ab3faaf6e",
   "metadata": {},
   "source": [
    "**Expected output:** False"
   ]
  },
  {
   "cell_type": "markdown",
   "id": "81f8c580-a3ad-4c69-822a-bc8fc23cae48",
   "metadata": {},
   "source": [
    "### **Task 4:**\n",
    "\n",
    "Evaluate the boolean of **\" \"** and print the value."
   ]
  },
  {
   "cell_type": "code",
   "execution_count": 49,
   "id": "b2bb9b03-acc5-4860-8f0d-156b3f83b7e4",
   "metadata": {},
   "outputs": [
    {
     "name": "stdout",
     "output_type": "stream",
     "text": [
      "True\n"
     ]
    }
   ],
   "source": [
    "# Your code below:\n",
    "# -------------------\n",
    "\n",
    "print(bool(\" \"))"
   ]
  },
  {
   "cell_type": "markdown",
   "id": "089d4f93-42ce-4277-883c-3b302d48c725",
   "metadata": {},
   "source": [
    "**Expected output:** True"
   ]
  },
  {
   "cell_type": "markdown",
   "id": "53dece7d-0a24-4070-8041-14e575d8c5bc",
   "metadata": {},
   "source": [
    "### **Task 5:** \n",
    "\n",
    "**Note:** The keyword **None** is used to define a null-variable in Python. This is a variable that does not carry any value.\n",
    "\n",
    "Create a variable called as **sample_none** and assign **None** to it. Now find the boolean of the variable **sample_none** using the **bool()** and print the value using the **print()** function.\n",
    "\n",
    "**Try:** replace _None_ with _none_"
   ]
  },
  {
   "cell_type": "code",
   "execution_count": 50,
   "id": "12605de9-38df-4901-bc77-9d0022aeff01",
   "metadata": {},
   "outputs": [
    {
     "name": "stdout",
     "output_type": "stream",
     "text": [
      "False\n"
     ]
    }
   ],
   "source": [
    "# Your code below:\n",
    "# -------------------\n",
    "\n",
    "sample_none = None\n",
    "print(bool(sample_none))"
   ]
  },
  {
   "cell_type": "markdown",
   "id": "9c70d1bc-463c-4a2b-8c01-28a4de481e4d",
   "metadata": {},
   "source": [
    "**Expected output:** False"
   ]
  },
  {
   "cell_type": "markdown",
   "id": "102989eb-7073-43f5-a147-45b6ea2c22ba",
   "metadata": {},
   "source": [
    "### **Boolean of Expressions** \n",
    "As discussed in week-1, an expression is something that evaluates to a value. Now if the expression evaluates to a value of one of the above cases then the boolean of the expression evalutaes to **False** if it evalutes to anything else then the boolean evaluates to **True**. For example, **print(bool(1-1))** evaluates to **False** and **print(bool(5-1))** evaluates to **True**. In the first case the expression **(1-1)=0** and in the second case **(5-1)=4** and naturally **bool(0)=False** and **bool(4)=True**. \n",
    "\n",
    "_**Now let's practise with some tougher examples :-p**_"
   ]
  },
  {
   "cell_type": "markdown",
   "id": "d8322e5c-1a6e-443c-bcc0-b93a3038ef92",
   "metadata": {},
   "source": [
    "### **Task 1:**\n",
    "\n",
    "Find the boolean of expression **(1+6)\\*10-14/8**\n",
    "\n",
    "**Note:** To understand better, try to calculate the value of the above expression using BODMAS and see what it evaluates to."
   ]
  },
  {
   "cell_type": "code",
   "execution_count": 51,
   "id": "8a3f4b35-49b7-4d2c-be80-eaa6c3172569",
   "metadata": {
    "tags": []
   },
   "outputs": [
    {
     "name": "stdout",
     "output_type": "stream",
     "text": [
      "True\n"
     ]
    }
   ],
   "source": [
    "# Your code below:\n",
    "# -------------------\n",
    "\n",
    "print(bool((1+6)*10-14/8))"
   ]
  },
  {
   "cell_type": "markdown",
   "id": "a36972bf-c507-4347-ba06-98fa03599d5e",
   "metadata": {},
   "source": [
    "**Output:** True"
   ]
  },
  {
   "cell_type": "markdown",
   "id": "273c234a-2232-4d49-ab41-5ac755cf44b8",
   "metadata": {},
   "source": [
    " ### **Task 2:**\n",
    "\n",
    "Find the boolean of expression **1+2\\*2-10^2+5\\*19**\n",
    "\n",
    "**Note 1:** To understand better, try to calculate the value of the above expression using **BODMAS** and see what it evaluates to. \n",
    "\n",
    "**Note 2:** Here **^** is power/order, so **10^2** is read as ten square."
   ]
  },
  {
   "cell_type": "code",
   "execution_count": 52,
   "id": "f917f24c-4f25-49f3-9282-df82195032cf",
   "metadata": {
    "tags": []
   },
   "outputs": [
    {
     "name": "stdout",
     "output_type": "stream",
     "text": [
      "False\n"
     ]
    }
   ],
   "source": [
    "# Your code below:\n",
    "# -------------------\n",
    "\n",
    "print(bool(1+2*2-10**2+5*19))"
   ]
  },
  {
   "cell_type": "markdown",
   "id": "601661d6-0cdb-4ae8-9208-2b37c537348d",
   "metadata": {},
   "source": [
    "**Output:** False"
   ]
  },
  {
   "cell_type": "markdown",
   "id": "6d462d43-4000-4ab4-8f37-faaca53f73c1",
   "metadata": {},
   "source": [
    "### **Built-in math module**\n",
    "\n",
    "Module is a simple python file with **.py** extension which can be imported inside another python file using the **import** statement. **math** module contains various functions that can be used to perform mathematical operations other than simple **+**, **-**, **\\***, **\\*\\***, **/**.\n",
    "\n",
    "Functions within a module can be accessed using a dot **.** \n",
    "\n",
    "For example, to access the **sin** function within the **math** module use **math.sin()**\n",
    "\n",
    "**Additional:** Find the complete list of functions within the math module in the link given below\n",
    "https://docs.python.org/3/library/math.html"
   ]
  },
  {
   "cell_type": "code",
   "execution_count": 53,
   "id": "a458fb74-8ff1-4438-adba-5db003471a2c",
   "metadata": {},
   "outputs": [],
   "source": [
    "# import the math module here using the import statement:\n",
    "\n",
    "import math"
   ]
  },
  {
   "cell_type": "markdown",
   "id": "dd0c3ce0-a495-437a-978c-2fd23287685e",
   "metadata": {},
   "source": [
    "### **Task 1:** \n",
    "\n",
    "**Note:** The trignometric functions in the **math** module take values in **radians** and not in **degrees**. To convert a value to radians use **math.radians()** function.\n",
    "\n",
    "Convert **90** degrees to radians using the **math.radians()** function and assign this value to a variable called **angle**. Find the **sin** of this **angle** using the **math.sin()** function and print the value."
   ]
  },
  {
   "cell_type": "code",
   "execution_count": 54,
   "id": "ac77acfa-85a6-4c39-bb58-fe1d5814df09",
   "metadata": {},
   "outputs": [
    {
     "name": "stdout",
     "output_type": "stream",
     "text": [
      "1.0\n"
     ]
    }
   ],
   "source": [
    "# Your code below:\n",
    "# -------------------\n",
    "\n",
    "angle = math.radians(90)\n",
    "print(math.sin(angle))"
   ]
  },
  {
   "cell_type": "markdown",
   "id": "c2085ac4-06e0-4b0c-8872-09197411dd87",
   "metadata": {},
   "source": [
    "**Output:** 1.0\n",
    "\n",
    "Notice that the default output is a float and not int."
   ]
  },
  {
   "cell_type": "markdown",
   "id": "78389e09-e7a5-4bfb-b8d0-baf7bf62eafd",
   "metadata": {},
   "source": [
    "### **Task 2:** \n",
    "\n",
    "**Note:** The **math.ceil()** function raises the float to the next highest **integer**. \n",
    "\n",
    "**How to remember:** The word **ceil** comes from **ceiling** which is at the top. So, **math.ceil()** rises the value to the top :-p\n",
    "\n",
    "Create a variable named **sample_number** and assign a value of **3.2** to it. Now find the **ceil** of this number using **math.ceil()** function and print the value."
   ]
  },
  {
   "cell_type": "code",
   "execution_count": 55,
   "id": "64ea2d32-c00f-44ef-82a8-bea3d0f58eae",
   "metadata": {},
   "outputs": [
    {
     "name": "stdout",
     "output_type": "stream",
     "text": [
      "4\n"
     ]
    }
   ],
   "source": [
    "# Your code below:\n",
    "# -------------------\n",
    "\n",
    "sample_number = 3.2\n",
    "print(math.ceil(sample_number))"
   ]
  },
  {
   "cell_type": "markdown",
   "id": "d8d0c843-7ba1-4b32-ba35-ca8ae6f04729",
   "metadata": {},
   "source": [
    "**Output:** 4"
   ]
  },
  {
   "cell_type": "markdown",
   "id": "bbe9642f-0a2f-4b4a-8c28-31c3158802eb",
   "metadata": {},
   "source": [
    "### **Task 3:** \n",
    "\n",
    "**Note:** The **math.floor()** function reduces the float to the previous integer. \n",
    "\n",
    "**How to remember:** The word **floor** comes from **floor** which is at the bottom. So, **math.floor()** reduces the value to the bottom :-p\n",
    "\n",
    "Create a variable named **sample_number** and assign a value of **3.2** to it. Now find the **floor** of this number using **math.floor()** function and print the value."
   ]
  },
  {
   "cell_type": "code",
   "execution_count": 56,
   "id": "c71d395e-fc66-4951-93c6-225509e13878",
   "metadata": {},
   "outputs": [
    {
     "name": "stdout",
     "output_type": "stream",
     "text": [
      "3\n"
     ]
    }
   ],
   "source": [
    "# Your code below:\n",
    "# -------------------\n",
    "\n",
    "sample_number = 3.2\n",
    "print(math.floor(sample_number))"
   ]
  },
  {
   "cell_type": "markdown",
   "id": "81d1e22b-2a75-41bd-be9f-f5a60d7ef97c",
   "metadata": {},
   "source": [
    "**Output:** 3"
   ]
  },
  {
   "cell_type": "markdown",
   "id": "e79bc35c-1d1b-4322-a459-520c6cb44b22",
   "metadata": {},
   "source": [
    "# User-defined functions:"
   ]
  },
  {
   "cell_type": "markdown",
   "id": "115354c2-4a68-4189-863d-9263ba001c02",
   "metadata": {},
   "source": [
    "Python built-in functions are limited. In most cases we have to write our own functions to suit our needs. Functions are reusable and thereby reduce the lines of code. Functions can be used anywhere after they are declared. Functions can be used by calling them **(using () is called \"calling\" in Python)**.\n",
    "\n",
    "Functions are written using **def** followed by the name of the function. The name of the function follows the same rules as that of variables which use the **PEP 8** guidelines. This is the most widely used guide for Python. The link below takes you to **PEP 8** guidelines.\n",
    "\n",
    "https://www.python.org/dev/peps/pep-0008/#function-and-variable-names\n",
    "\n",
    "Functions in Python are divided into two main categories depending on the value they return. </br>\n",
    "1.) **Void function**: A function that returns **None** as the value </br>\n",
    "2.) **Value-returning function**: A function that returns a value other than **None** </br>\n",
    "\n",
    "You will find examples of both of these types below."
   ]
  },
  {
   "cell_type": "code",
   "execution_count": 57,
   "id": "18b0ec25",
   "metadata": {},
   "outputs": [
    {
     "name": "stdout",
     "output_type": "stream",
     "text": [
      "Hello Chidvilas!\n",
      "The value returned is None\n"
     ]
    }
   ],
   "source": [
    "## Void function:\n",
    "## ---------------\n",
    "\n",
    "def say_hello(name):\n",
    "    print(f\"Hello {name}!\")\n",
    "\n",
    "return_value = say_hello(name=\"Chidvilas\")\n",
    "print(f\"The value returned is {return_value}\")"
   ]
  },
  {
   "cell_type": "code",
   "execution_count": 58,
   "id": "60aceb02-1b2a-4617-9c69-8ee27cd612f2",
   "metadata": {},
   "outputs": [],
   "source": [
    "## Value-returning function:\n",
    "## ----------------------------\n",
    "\n",
    "\"\"\"\n",
    "A sample function that takes two numbers, adds them, squares them and returns the value:\n",
    "\"\"\"\n",
    "\n",
    "def simple_function(x, y):\n",
    "    return (x+y)**2"
   ]
  },
  {
   "cell_type": "markdown",
   "id": "2552ea2a-5da4-480b-a227-9a7235f6f23a",
   "metadata": {},
   "source": [
    "**Note:** Here, **x** and **y** are called as **parameters**."
   ]
  },
  {
   "cell_type": "code",
   "execution_count": 59,
   "id": "812ca3b6-22f2-4423-a624-6dbda2422b21",
   "metadata": {},
   "outputs": [
    {
     "name": "stdout",
     "output_type": "stream",
     "text": [
      "25\n"
     ]
    }
   ],
   "source": [
    "# Example that shows how a function can be called:\n",
    "\n",
    "return_value = simple_function(1, 4)\n",
    "print(return_value)"
   ]
  },
  {
   "cell_type": "markdown",
   "id": "df84d391-a085-47ed-bdbf-6ddc2131ad7d",
   "metadata": {},
   "source": [
    "**Note 1 :** In the above example, the values **1** and **4** are called as **arguments**. So, the **parameters** **x** and **y** take **1** and **4** as arguments. The arguments can be passed as **keywords** as seen below. This makes the code easily readable and prevents wrong assignments.\n",
    "\n",
    "**Note 2:** If keywords are not used, then Python treats the first value as **x** and the second value as **y** as this is the order in which the parameters were defined when the function **simple_function** was defined."
   ]
  },
  {
   "cell_type": "code",
   "execution_count": 60,
   "id": "42ccae9c-9728-4bbe-acb3-cfda0d41266b",
   "metadata": {},
   "outputs": [
    {
     "name": "stdout",
     "output_type": "stream",
     "text": [
      "The value returned is 25\n"
     ]
    }
   ],
   "source": [
    "# keyword arguments:\n",
    "\n",
    "return_value = simple_function(x=1, y=4)\n",
    "print(f\"The value returned is {return_value}\")"
   ]
  },
  {
   "cell_type": "markdown",
   "id": "45a4a665-2638-4d93-b5db-19c1dc4dd00e",
   "metadata": {},
   "source": [
    "**Now it's your turn to write your own custom functions :-p**"
   ]
  },
  {
   "cell_type": "markdown",
   "id": "b49195ed-fe30-4894-8e7d-848802ef263b",
   "metadata": {},
   "source": [
    "### **Task 1:**\n",
    "\n",
    "Define a function that prints \"Hey there\". Give your own name to the function."
   ]
  },
  {
   "cell_type": "code",
   "execution_count": 61,
   "id": "8fa1c9bf-3172-4563-bc9e-87ea15153a16",
   "metadata": {},
   "outputs": [],
   "source": [
    "# Define the function below:\n",
    "# -----------------------------\n",
    "\n",
    "def hey_there():\n",
    "    print(\"Hey there\")"
   ]
  },
  {
   "cell_type": "code",
   "execution_count": 62,
   "id": "3d704111-9155-4ab5-a8c9-bc2f771f07ba",
   "metadata": {},
   "outputs": [
    {
     "name": "stdout",
     "output_type": "stream",
     "text": [
      "Hey there\n"
     ]
    }
   ],
   "source": [
    "# Call the function here:\n",
    "# -------------------------\n",
    "\n",
    "hey_there()"
   ]
  },
  {
   "cell_type": "markdown",
   "id": "65e807f2-2968-4e07-9c94-d22721db7adf",
   "metadata": {},
   "source": [
    "**Expected output:** Hey there"
   ]
  },
  {
   "cell_type": "markdown",
   "id": "52f5ede0-236c-4752-97df-cb0d01691695",
   "metadata": {},
   "source": [
    "### **Task 2:** \n",
    "\n",
    "Define a function (_give it a name of your choice_) that calucates the following expression and returns the result of the expression. Store the result of the expression in a variable called **result** and print it.\n",
    "\n",
    "_quadratic expression:_  **x² + 2x + 5**\n",
    "\n",
    "**Hint:** Think what the **parameter** should be while defining the function.\n",
    "\n",
    "After defining the function, find the value of the expression for **x=3** (Also do it on piece of paper to see if Python is getting it right :-p)."
   ]
  },
  {
   "cell_type": "code",
   "execution_count": 63,
   "id": "dc9a9e21-9d2e-4209-af33-2d3d27baeb75",
   "metadata": {},
   "outputs": [],
   "source": [
    "# Define the function here:\n",
    "# ----------------------------\n",
    "\n",
    "def quadratic(x):\n",
    "    return x**2+2*x+5    "
   ]
  },
  {
   "cell_type": "code",
   "execution_count": 64,
   "id": "7af14ae9-3a3c-4320-9a2a-3a60584a82b7",
   "metadata": {},
   "outputs": [
    {
     "name": "stdout",
     "output_type": "stream",
     "text": [
      "20\n"
     ]
    }
   ],
   "source": [
    "# Call the function here and pass x=3:\n",
    "# ----------------------------------------\n",
    "\n",
    "result = quadratic(x=3)\n",
    "print(result)"
   ]
  },
  {
   "cell_type": "markdown",
   "id": "507e890e-32c7-467b-9881-2c30b4ed0a5e",
   "metadata": {},
   "source": [
    "**Output:** 20"
   ]
  },
  {
   "cell_type": "markdown",
   "id": "e0281b8b-22ed-4b4f-b270-20b00cc58fb4",
   "metadata": {},
   "source": [
    "### **Function in functions:**\n",
    "\n",
    "Functions can also be called within other functions. See an example below;\n",
    "\n",
    "```\n",
    "def add_function(x, y):\n",
    "    return x+y\n",
    "    \n",
    "def some_math_function(x, y):\n",
    "    add_result = add_function(x, y)\n",
    "    return add_result**2\n",
    "    \n",
    "result = some_math_function(2, 3)\n",
    "print(result)\n",
    "```\n",
    "\n",
    "**Output:** 25\n",
    "\n",
    "**Hint:** Do this on your own to see the **program's control flow**. Control flow is the order in which the code is executed."
   ]
  },
  {
   "cell_type": "markdown",
   "id": "bd1e6330-3c46-4794-b930-128d62115513",
   "metadata": {},
   "source": [
    "### **Task 1:**\n",
    "\n",
    "The following expression needs to be evaluated;\n",
    "\n",
    "_Expression_: **cos(x)^5 + x^3 + 4x + 20**\n",
    "\n",
    "Define the first function that calculates cos(x) and returns the value. Define another function that uses the first function to evaluate the expression. Find the value of the expression for **x=2**. Here, **^** defines the power."
   ]
  },
  {
   "cell_type": "code",
   "execution_count": 65,
   "id": "32de258d-7f31-4830-aa84-b551d152d173",
   "metadata": {},
   "outputs": [],
   "source": [
    "# Import math module, define both the functions in this cell:\n",
    "# ------------------------------------------------------------------\n",
    "\n",
    "import math\n",
    "\n",
    "def cos_function(x):\n",
    "    return (math.cos(x))\n",
    "\n",
    "def cubic_function(x):\n",
    "    return cos_function(x)**5 + x**3 + (4*x) + 20"
   ]
  },
  {
   "cell_type": "code",
   "execution_count": 66,
   "id": "c880954e-d101-4534-8c4d-91e7c45cbe5d",
   "metadata": {},
   "outputs": [
    {
     "name": "stdout",
     "output_type": "stream",
     "text": [
      "35.987519471168994\n"
     ]
    }
   ],
   "source": [
    "# Call the function and pass x=2 as an argument:\n",
    "# ----------------------------------------------------\n",
    "\n",
    "result = cubic_function(x=2)\n",
    "print(result)"
   ]
  },
  {
   "cell_type": "markdown",
   "id": "4ebb8369-7ac1-4272-858f-e4851d605893",
   "metadata": {},
   "source": [
    "**Output:** ~ 36"
   ]
  },
  {
   "cell_type": "markdown",
   "id": "7c4037ee-2815-485e-ba3d-f2fdafa9d103",
   "metadata": {},
   "source": [
    "### Task 2:\n",
    "\n",
    "You have to define two functions. The first function should return the number of characters in a name (defined as a string), using the **len()** function. The second function must call the first function, get the length of the name and print **\"Hello, \\<name\\>. You have \\<number of characters\\> in your name\"**.\n",
    "\n",
    "**Note:** Decide what the parameters of these functions are, depending on the task."
   ]
  },
  {
   "cell_type": "code",
   "execution_count": 67,
   "id": "7ac9028d",
   "metadata": {},
   "outputs": [],
   "source": [
    "# Define your functions below:\n",
    "# -----------------------\n",
    "\n",
    "def string_len(name):\n",
    "    return len(name)\n",
    "\n",
    "def printing_function(name):\n",
    "    print(f\"Hello, {name}. You have {string_len(name)} characters in your name.\")\n"
   ]
  },
  {
   "cell_type": "code",
   "execution_count": 68,
   "id": "2c422e6c",
   "metadata": {},
   "outputs": [
    {
     "name": "stdout",
     "output_type": "stream",
     "text": [
      "Hello, Chidvilas. You have 9 characters in your name.\n"
     ]
    }
   ],
   "source": [
    "# Call the function below. Use the name of your choice.\n",
    "# -----------------------------------------------------------\n",
    "\n",
    "printing_function(name=\"Chidvilas\")"
   ]
  },
  {
   "cell_type": "code",
   "execution_count": null,
   "id": "e5cb45ca",
   "metadata": {},
   "outputs": [],
   "source": []
  }
 ],
 "metadata": {
  "kernelspec": {
   "display_name": "Python 3",
   "language": "python",
   "name": "python3"
  },
  "language_info": {
   "codemirror_mode": {
    "name": "ipython",
    "version": 3
   },
   "file_extension": ".py",
   "mimetype": "text/x-python",
   "name": "python",
   "nbconvert_exporter": "python",
   "pygments_lexer": "ipython3",
   "version": "3.8.11"
  }
 },
 "nbformat": 4,
 "nbformat_minor": 5
}
