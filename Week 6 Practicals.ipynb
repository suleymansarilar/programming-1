{
 "cells": [
  {
   "cell_type": "markdown",
   "id": "aea50ed9-c657-499e-b4a4-5cefb9659712",
   "metadata": {},
   "source": [
    "# Summary:\n",
    "\n",
    "_The below task will help you revise all the topics that were covered in the previous weeks. Here, you will also understand what is meant by \"scope\" of a variable._"
   ]
  },
  {
   "cell_type": "markdown",
   "id": "7c9eaafe-c30a-4f1c-9459-77a86ef0712e",
   "metadata": {},
   "source": [
    "## RADAR equation:\n",
    "\n",
    "RADAR (_Radio Detection and Ranging_) sensors are highly reliable sensors that are not affected by bad weather conditions. Due to their reliability, RADARs find their application in automobiles. One of the most important equations associated with RADARs is the **RADAR-equation** which gives the value of **Signal to Noise ratio (SNR)**. The equation is given below,\n",
    "\n",
    "**SNR = (P_T * G_T * G_R * lambda_r^2 * sigma) / ( (4 * pi)^3 * R^4 * k * T_o * B * F_n * L)**\n",
    "\n",
    "Here,\n",
    "\n",
    "1. **P_T** is the peak transmitted power\n",
    "\n",
    "2. **G_T** is the gain of the transmitting antenna\n",
    "\n",
    "3. **G_R** is the gain of the receiving antenna\n",
    "\n",
    "4. **lambda_r** is radar wavelength (lambda = 0.0375 m)\n",
    "\n",
    "5. **sigma** is the target radar cross-section or RCS (sigma = 3.98 m^2)\n",
    "\n",
    "6. **R** is RADAR range\n",
    "\n",
    "7. **k** is Boltzman's constant and **T_o** denotes reference temperature in Kelvin. For the present task consider (k\\*T_o = 4\\*10^-21 W-s)\n",
    "\n",
    "9. **B** is effective noise bandwidth (B = 2.5\\*10^6 m)\n",
    "\n",
    "10. **F_n** is RADAR noise figure (F = 6.31 W/W)\n",
    "\n",
    "11. **L** is loss term\n",
    "\n",
    "12. **pi** is the mathematical constant. Use the **math-module** for this.\n"
   ]
  },
  {
   "cell_type": "markdown",
   "id": "874563f8-2831-459b-9e80-6eaa742f50ed",
   "metadata": {},
   "source": [
    "### Task 1:\n",
    "\n",
    "_This task is meant to cover all topics covered in week-1(variable, values, assignments, operations, operator precedence, expressions and statements) and week-2 (built-in functions, user-defined functions, scope)_\n",
    "\n",
    "Your job is to create a function that calculates and returns the **SNR value**.  As you can see from the equation above, some terms are constants. These terms can be defined as **local variables**.  And other variables can be defined as **global varaibles** and passed as **keyword arguments**. \n",
    "\n",
    "Once the function is defined, calculate the SNR value for the below values;\n",
    "\n",
    "1. P_T = 10^6 W\n",
    "\n",
    "2. G_T = 6309.6 W\n",
    "\n",
    "3. G_R = 6309.6 W\n",
    "\n",
    "4. R = 60\\*10^3 m\n",
    "\n",
    "5. L = 5.01 W/W\n",
    "\n",
    "**Hint:** You can directly substitute the values _without_ bothering about the units.\n",
    "\n",
    "**Hint:** Here **^** is \"to the power of\". So, **10^4** is read as **10 to the power of 4**.\n"
   ]
  },
  {
   "cell_type": "code",
   "execution_count": 3,
   "id": "1852fa9d-9e2c-489c-8ae5-9c532c011dd3",
   "metadata": {},
   "outputs": [],
   "source": [
    "# Import math module here to use math.pi\n",
    "\n",
    "import math"
   ]
  },
  {
   "cell_type": "code",
   "execution_count": 4,
   "id": "3b62dd0b-c91b-49b8-8aef-a2e4448e99ce",
   "metadata": {},
   "outputs": [],
   "source": [
    "# Your code below:\n",
    "# -------------------\n",
    "# NOTE: (5-10 min to solve this task)\n",
    "\n",
    "def signal_to_noise(sigma, p_t, g_t, g_r, radar_range, loss):\n",
    "    lambda_r = 0.0375\n",
    "    k_to = 4*10**-21\n",
    "    bandwidth = 2.5*10**6\n",
    "    radar_noise_figure = 6.31\n",
    "    \n",
    "    return (p_t * g_t * g_r * lambda_r**2 * sigma) / ((4*math.pi)**3 * radar_range**4 * k_to * bandwidth * radar_noise_figure * loss)"
   ]
  },
  {
   "cell_type": "code",
   "execution_count": 5,
   "id": "663a2d03-3474-4fd1-ab36-02dfd72f4b11",
   "metadata": {},
   "outputs": [
    {
     "name": "stdout",
     "output_type": "stream",
     "text": [
      "27.406121859256224\n"
     ]
    }
   ],
   "source": [
    "# Call the function below:\n",
    "# --------------------------\n",
    "\n",
    "print(signal_to_noise(sigma=3.98, p_t=10**6, g_t=6309.6, g_r=6309.6, radar_range=60*10**3, loss=5.01))"
   ]
  },
  {
   "cell_type": "markdown",
   "id": "e9d4fdf9-0df4-482c-83e5-a4888ffc7f2c",
   "metadata": {},
   "source": [
    "**Output:** ~27.41"
   ]
  },
  {
   "cell_type": "markdown",
   "id": "b4c1f1f0",
   "metadata": {},
   "source": [
    "# Checking conditions:\n",
    "\n",
    "_In the present section we see how we can use **Conditional statements**, **Logical operators**, **Comparison operators**, **Chained-conditional statements** and **Nested-conditional statements**._"
   ]
  },
  {
   "cell_type": "markdown",
   "id": "3ba326d1",
   "metadata": {},
   "source": [
    "### When to use \"if\" and \"elif\"?\n",
    "\n",
    "_Observe the below code carefully to understanding the difference. Our aim is to check whether a number is divisible by 2 **and** by 3._"
   ]
  },
  {
   "cell_type": "code",
   "execution_count": 30,
   "id": "ca127db4",
   "metadata": {},
   "outputs": [
    {
     "name": "stdout",
     "output_type": "stream",
     "text": [
      "Number divisible by 2\n"
     ]
    }
   ],
   "source": [
    "# Approach 1:\n",
    "# ------------\n",
    "\n",
    "number = 6\n",
    "\n",
    "if not number%2:\n",
    "    print(\"Number divisible by 2\")\n",
    "elif not number%3:\n",
    "    print(\"Number divisible by 3\")"
   ]
  },
  {
   "cell_type": "code",
   "execution_count": 32,
   "id": "7cf4511d",
   "metadata": {},
   "outputs": [
    {
     "name": "stdout",
     "output_type": "stream",
     "text": [
      "Number divisible by 2\n",
      "Number divisible by 3\n"
     ]
    }
   ],
   "source": [
    "# Approach 2:\n",
    "# ------------\n",
    "\n",
    "number = 6\n",
    "\n",
    "if not number%2:\n",
    "    print(\"Number divisible by 2\")\n",
    "if not number%3:\n",
    "    print(\"Number divisible by 3\")"
   ]
  },
  {
   "cell_type": "markdown",
   "id": "84eb6ad0",
   "metadata": {},
   "source": [
    "_Which of the two approaches do you think is right? and why?_ ;-)"
   ]
  },
  {
   "cell_type": "markdown",
   "id": "3e377745",
   "metadata": {},
   "source": [
    "### Task 1:\n",
    "\n",
    "Define a function called **loan_procurement()** with a parameter called **existing_loan** which takes a boolean as an argument. The function should return **\"Loan approved!\"** if the customer does not have any existing loan and should return **\"Loan rejected\"** if the customer has an existing loan."
   ]
  },
  {
   "cell_type": "code",
   "execution_count": 9,
   "id": "b9f6870a",
   "metadata": {},
   "outputs": [],
   "source": [
    "# Your code below:\n",
    "# -------------------\n",
    "# NOTE: (5 min to solve this task)\n",
    "\n",
    "def loan_procurement(existing_loan):\n",
    "    if existing_loan:\n",
    "        return \"Loan rejected\"\n",
    "    else:\n",
    "        return \"Loan approved!\""
   ]
  },
  {
   "cell_type": "code",
   "execution_count": 10,
   "id": "cafc10c9",
   "metadata": {},
   "outputs": [
    {
     "name": "stdout",
     "output_type": "stream",
     "text": [
      "You have an existing loan:  Loan rejected\n",
      "You do not have an existing loan:  Loan approved!\n"
     ]
    }
   ],
   "source": [
    "# Check the below conditions:\n",
    "# -------------------------------\n",
    "\n",
    "print(\"You have an existing loan: \", loan_procurement(existing_loan=True))\n",
    "print(\"You do not have an existing loan: \", loan_procurement(existing_loan=False))"
   ]
  },
  {
   "cell_type": "markdown",
   "id": "3150fd14",
   "metadata": {},
   "source": [
    "**Expected output:**</br>\n",
    "You have an existing loan:  Loan rejected</br>\n",
    "You do not have an existing loan:  Loan approved!"
   ]
  },
  {
   "cell_type": "markdown",
   "id": "f790dbc6",
   "metadata": {},
   "source": [
    "### Task 2: \n",
    "We will add complexity to the above problem. In the above problem we only checked one condition where a person having an existing loan was rejected a new loan. We introduce one more condition here where we check the person's age. Implement a function based on the below conditions:</br>\n",
    "\n",
    "**Loan rejected**: If a person has an existing loan </br>\n",
    "\n",
    "**Loan approved:** If a person has no existing loan and age is below 60 </br>\n",
    "\n",
    "**Loan under scrutiny:** If a person has no existing loan and age is equal to or above 60 </br>\n",
    "\n",
    "Please modify the above function to meet these requirements."
   ]
  },
  {
   "cell_type": "code",
   "execution_count": 11,
   "id": "37a44fc3",
   "metadata": {},
   "outputs": [],
   "source": [
    "# Your code below:\n",
    "# -------------------\n",
    "# NOTE: (10 min to solve this task)\n",
    "\n",
    "def loan_procurement(existing_loan, age):\n",
    "    if existing_loan:\n",
    "        return \"Loan rejected\"\n",
    "    else:\n",
    "        if age>=60:\n",
    "            return \"Loan under scrutiny\"\n",
    "        else:\n",
    "            return \"Loan approved!\"\n"
   ]
  },
  {
   "cell_type": "code",
   "execution_count": 12,
   "id": "767a2aad",
   "metadata": {},
   "outputs": [
    {
     "name": "stdout",
     "output_type": "stream",
     "text": [
      "You have an existing loan and you are 65 years of age:  Loan rejected\n",
      "You do not have an existing loan and you are 60 years of age:  Loan under scrutiny\n",
      "You do not have an existing loan and you are 67 years of age:  Loan approved!\n"
     ]
    }
   ],
   "source": [
    "# Check the below conditions:\n",
    "# -------------------------------\n",
    "\n",
    "print(\"You have an existing loan and you are 65 years of age: \", loan_procurement(existing_loan=True, age=65))\n",
    "print(\"You do not have an existing loan and you are 60 years of age: \", loan_procurement(existing_loan=False, age=60))\n",
    "print(\"You do not have an existing loan and you are 67 years of age: \", loan_procurement(existing_loan=False, age=54))"
   ]
  },
  {
   "cell_type": "markdown",
   "id": "008dd774",
   "metadata": {},
   "source": [
    "**Expected output:**</br>\n",
    "You have an existing loan and you are 65 years of age:  Loan rejected</br>\n",
    "You do not have an existing loan and you are 60 years of age:  Loan under scrutiny</br>\n",
    "You do not have an existing loan and you are 67 years of age:  Loan approved!</br>"
   ]
  },
  {
   "cell_type": "markdown",
   "id": "a22e9c54-e442-40c9-9707-903d4aed761e",
   "metadata": {},
   "source": [
    "### Task 3:\n",
    "\n",
    "We add one additional complexity to the above problem where we add one more condition. We also check the minimum age of a person. If the person is equal to or below 20 years of age, we reject the loan. Modify the function accordingly."
   ]
  },
  {
   "cell_type": "code",
   "execution_count": 13,
   "id": "a29df5be",
   "metadata": {},
   "outputs": [],
   "source": [
    "# Your code below:\n",
    "# -------------------\n",
    "# NOTE: (5-10 min to solve this task)\n",
    "\n",
    "def loan_procurement(existing_loan, age):\n",
    "    if existing_loan or age<=20:\n",
    "        return \"Loan rejected\"\n",
    "    else:\n",
    "        if age>=60:\n",
    "            return \"Loan under scrutiny\"\n",
    "        else:\n",
    "            return \"Loan approved!\"\n"
   ]
  },
  {
   "cell_type": "code",
   "execution_count": 14,
   "id": "084fcefb",
   "metadata": {},
   "outputs": [
    {
     "name": "stdout",
     "output_type": "stream",
     "text": [
      "You have an existing loan and you are 65 years of age:  Loan rejected\n",
      "You do not have an existing loan and you are 60 years of age:  Loan under scrutiny\n",
      "You do not have an existing loan and you are 67 years of age:  Loan approved!\n",
      "You do not have an existing loan and you are 16 years of age:  Loan rejected\n"
     ]
    }
   ],
   "source": [
    "# Check the below conditions:\n",
    "# -------------------------------\n",
    "\n",
    "print(\"You have an existing loan and you are 65 years of age: \", loan_procurement(existing_loan=True, age=65))\n",
    "print(\"You do not have an existing loan and you are 60 years of age: \", loan_procurement(existing_loan=False, age=60))\n",
    "print(\"You do not have an existing loan and you are 67 years of age: \", loan_procurement(existing_loan=False, age=54))\n",
    "print(\"You do not have an existing loan and you are 16 years of age: \", loan_procurement(existing_loan=False, age=16))"
   ]
  },
  {
   "cell_type": "markdown",
   "id": "3d3c0312",
   "metadata": {},
   "source": [
    "**Expected output:**</br>\n",
    "You have an existing loan and you are 65 years of age:  Loan rejected</br>\n",
    "You do not have an existing loan and you are 60 years of age:  Loan under scrutiny</br>\n",
    "You do not have an existing loan and you are 67 years of age:  Loan approved!</br>\n",
    "You do not have an existing loan and you are 16 years of age:  Loan rejected"
   ]
  },
  {
   "cell_type": "markdown",
   "id": "eeeac7d1",
   "metadata": {},
   "source": [
    "### Task 4: \n",
    "\n",
    "We add one more condition to the above function where we check a person's salary. A loan is rejected if the person earns less than 50,000 Euro. Loan is sent to scrutiny only if your salary is above 80,000 Euro. \n",
    "\n",
    "**Note:** Make sure that other conditions from above are satisfied."
   ]
  },
  {
   "cell_type": "code",
   "execution_count": 15,
   "id": "c0e8b7c3",
   "metadata": {},
   "outputs": [],
   "source": [
    "# Your code below:\n",
    "# -------------------\n",
    "# NOTE: (15 min to solve this task)\n",
    "\n",
    "def loan_procurement(existing_loan, age, salary):\n",
    "    if existing_loan or age<=20 or salary<50_000:\n",
    "        return \"Loan rejected\"\n",
    "    else:\n",
    "        if age<60:\n",
    "            return \"Loan approved!\"\n",
    "        else:\n",
    "            if salary>80_000:\n",
    "                return \"Loan under scrutiny\"\n",
    "            else:\n",
    "                return \"Loan rejected\"\n"
   ]
  },
  {
   "cell_type": "code",
   "execution_count": 16,
   "id": "311ff740",
   "metadata": {},
   "outputs": [
    {
     "name": "stdout",
     "output_type": "stream",
     "text": [
      "You have an existing loan and you are 25 years old with a salary of 90,000 Euro:  Loan rejected\n",
      "You do not have an existing loan and you are 35 years old with a salary of 90,000 Euro:  Loan approved!\n",
      "You do not have an existing loan and you are 19 years old with a salary of 120,000 Euro:  Loan rejected\n",
      "You do not have an existing loan and you are 65 years old with a salary of 57,000 Euro:  Loan rejected\n",
      "You do not have an existing loan and you are 60 years old with a salary of 81,000 Euro:  Loan under scrutiny\n",
      "You do not have an existing loan and you are 38 years old with a salary of 40,000 Euro:  Loan rejected\n",
      "You do not have an existing loan and you are 35 years old with a salary of 50,000 Euro:  Loan approved!\n"
     ]
    }
   ],
   "source": [
    "# Check the following conditions:\n",
    "# ----------------------------------\n",
    "\n",
    "print(\"You have an existing loan and you are 25 years old with a salary of 90,000 Euro: \", loan_procurement(existing_loan=True, age=25, salary=90_000))\n",
    "\n",
    "print(\"You do not have an existing loan and you are 35 years old with a salary of 90,000 Euro: \", loan_procurement(existing_loan=False, age=35, salary=90_000))\n",
    "\n",
    "print(\"You do not have an existing loan and you are 19 years old with a salary of 120,000 Euro: \", loan_procurement(existing_loan=False, age=19, salary=120_000))\n",
    "\n",
    "print(\"You do not have an existing loan and you are 65 years old with a salary of 57,000 Euro: \", loan_procurement(existing_loan=False, age=65, salary=57_000))\n",
    "\n",
    "print(\"You do not have an existing loan and you are 60 years old with a salary of 81,000 Euro: \", loan_procurement(existing_loan=False, age=60, salary=81_000))\n",
    "\n",
    "print(\"You do not have an existing loan and you are 38 years old with a salary of 40,000 Euro: \", loan_procurement(existing_loan=False, age=38, salary=40_000))\n",
    "\n",
    "print(\"You do not have an existing loan and you are 35 years old with a salary of 50,000 Euro: \", loan_procurement(existing_loan=False, age=35, salary=50_000))"
   ]
  },
  {
   "cell_type": "markdown",
   "id": "be702cff",
   "metadata": {},
   "source": [
    "**Expected output:** </br>\n",
    "You have an existing loan and you are 25 years old with a salary of 90,000 Euro:  Loan rejected</br>\n",
    "You do not have an existing loan and you are 35 years old with a salary of 90,000 Euro:  Loan approved!</br>\n",
    "You do not have an existing loan and you are 19 years old with a salary of 120,000 Euro:  Loan rejected</br>\n",
    "You do not have an existing loan and you are 65 years old with a salary of 57,000 Euro:  Loan rejected</br>\n",
    "You do not have an existing loan and you are 60 years old with a salary of 81,000 Euro:  Loan under scrutiny</br>\n",
    "You do not have an existing loan and you are 38 years old with a salary of 40,000 Euro:  Loan rejected</br>\n",
    "You do not have an existing loan and you are 35 years old with a salary of 50,000 Euro:  Loan approved!"
   ]
  },
  {
   "cell_type": "markdown",
   "id": "c7881110",
   "metadata": {},
   "source": [
    "### Task 5: \n",
    "\n",
    "You allow people to enter your restaurant only if they meet the below conditions. </br>\n",
    "**Accepted:** Without pets, with reservation</br>\n",
    "**Rejected:**  With pets, without reservation</br>\n",
    "\n",
    "On few days, some special considerations are allowed. On Tuesdays you only allow couples to enter. On Wednesdays even pets are allowed. And on Fridays, people can enter without a reservation. Your restaurant is closed on Saturday and Sunday and your function should say it is closed if people come on these days.\n",
    "\n",
    "Define a function that filters people based on these conditions.\n"
   ]
  },
  {
   "cell_type": "code",
   "execution_count": 17,
   "id": "34da0785",
   "metadata": {},
   "outputs": [],
   "source": [
    "# Your code below:\n",
    "# -------------------\n",
    "# NOTE: (15-20 min to solve this task)\n",
    "\n",
    "def restaurant_filter(day, couple, pets, reservation):\n",
    "    if day==\"Saturday\" or day==\"Sunday\":\n",
    "        return \"Restaurant closed\"\n",
    "    else:\n",
    "        if day==\"Monday\" or day==\"Thursday\":\n",
    "            if not pets and reservation:\n",
    "                return \"Accepted\"\n",
    "            else: \n",
    "                return \"Rejected\"\n",
    "        else:\n",
    "            if day==\"Tuesday\" and not pets and reservation:\n",
    "                if couple:\n",
    "                    return \"Accepted\"\n",
    "                else:\n",
    "                    return \"Rejected\"\n",
    "            elif day==\"Wednesday\" and reservation:\n",
    "                return \"Accepted\"\n",
    "            elif day==\"Friday\" and not pets:\n",
    "                return \"Accepted\"\n",
    "            else:\n",
    "                return \"Rejected\" \n",
    "            "
   ]
  },
  {
   "cell_type": "code",
   "execution_count": 18,
   "id": "74461f91",
   "metadata": {},
   "outputs": [
    {
     "name": "stdout",
     "output_type": "stream",
     "text": [
      "Testing Saturday and Sunday: \n",
      "I am going on a Sunday, with my wife, with a reservation:  Restaurant closed \n",
      "\n",
      "Testing Monday: \n",
      "I am going on a Monday, with my boy-friend, with a reservation:  Accepted\n",
      "I am going alone on a Monday, with my dog, with a reservation:  Rejected \n",
      "\n",
      "Testing Tuesday: \n",
      "I am going on a Tuesday, with my girl-friend, with a reservation:  Accepted\n",
      "I am going alone on a Tuesday, with a reservation:  Rejected \n",
      "\n",
      "Testing Wednesday: \n",
      "I am going alone on a Wednesday, with my cat, with a reservation:  Accepted\n",
      "I am going on a Wednesday, with my wife, with a reservation:  Accepted \n",
      "\n",
      "Testing Thursday: \n",
      "I am going on a Thursday, with my donkey, with a reservation:  Rejected\n",
      "I am going on a Thursday, with my husband, without a reservation:  Rejected \n",
      "\n",
      "Testing Friday: \n",
      "I am going alone on a Friday, with a reservation:  Accepted\n",
      "I am going on a Friday, with my wife, without a reservation:  Accepted \n",
      "\n"
     ]
    }
   ],
   "source": [
    "# Check the below conditions:\n",
    "# -------------------------------\n",
    "\n",
    "# Testing Saturday and Sunday:\n",
    "print(\"Testing Saturday and Sunday: \")\n",
    "print(\"I am going on a Sunday, with my wife, with a reservation: \", restaurant_filter(day=\"Sunday\", couple=True, pets=False, reservation=True), \"\\n\")\n",
    "\n",
    "# Testing Monday:\n",
    "print(\"Testing Monday: \")\n",
    "print(\"I am going on a Monday, with my boy-friend, with a reservation: \", restaurant_filter(day=\"Monday\", couple=True, pets=False, reservation=True))\n",
    "print(\"I am going alone on a Monday, with my dog, with a reservation: \", restaurant_filter(day=\"Monday\", couple=False, pets=True, reservation=True), \"\\n\")\n",
    "\n",
    "# Testing Tuesday:\n",
    "print(\"Testing Tuesday: \")\n",
    "print(\"I am going on a Tuesday, with my girl-friend, with a reservation: \", restaurant_filter(day=\"Tuesday\", couple=True, pets=False, reservation=True))\n",
    "print(\"I am going alone on a Tuesday, with a reservation: \", restaurant_filter(day=\"Tuesday\", couple=False, pets=False, reservation=True), \"\\n\")\n",
    "\n",
    "# Testing Wednesday:\n",
    "print(\"Testing Wednesday: \")\n",
    "print(\"I am going alone on a Wednesday, with my cat, with a reservation: \", restaurant_filter(day=\"Wednesday\", couple=False, pets=True, reservation=True))\n",
    "print(\"I am going on a Wednesday, with my wife, with a reservation: \", restaurant_filter(day=\"Wednesday\", couple=True, pets=False, reservation=True), \"\\n\")\n",
    "\n",
    "# Testing Thursday:\n",
    "print(\"Testing Thursday: \")\n",
    "print(\"I am going on a Thursday, with my donkey, with a reservation: \", restaurant_filter(day=\"Thursday\", couple=False, pets=True, reservation=True))\n",
    "print(\"I am going on a Thursday, with my husband, without a reservation: \", restaurant_filter(day=\"Thursday\", couple=True, pets=False, reservation=False), \"\\n\")\n",
    "\n",
    "# Testing Friday:\n",
    "print(\"Testing Friday: \")\n",
    "print(\"I am going alone on a Friday, with a reservation: \", restaurant_filter(day=\"Friday\", couple=False, pets=False, reservation=True))\n",
    "print(\"I am going on a Friday, with my wife, without a reservation: \", restaurant_filter(day=\"Friday\", couple=True, pets=False, reservation=False), \"\\n\")"
   ]
  },
  {
   "cell_type": "markdown",
   "id": "fb27a395",
   "metadata": {},
   "source": [
    "**Expected output:**</br>\n",
    "\n",
    "Testing Saturday and Sunday: </br>\n",
    "I am going on a Sunday, with my wife, with a reservation:  Restaurant closed </br>\n",
    "\n",
    "Testing Monday: </br>\n",
    "I am going on a Monday, with my boy friend, with a reservation:  Accepted</br>\n",
    "I am going alone on a Monday, with my dog, with a reservation:  Rejected </br>\n",
    "\n",
    "Testing Tuesday: </br>\n",
    "I am going on a Tuesday, with my girl friend, with a reservation:  Accepted</br>\n",
    "I am going alone on a Tuesday, with a reservation:  Rejected </br>\n",
    "\n",
    "Testing Wednesday: </br>\n",
    "I am going alone on a Wednesday, with my cat, with a reservation:  Accepted</br>\n",
    "I am going on a Wednesday, with my wife, with a reservation:  Accepted </br>\n",
    "\n",
    "Testing Thursday: </br>\n",
    "I am going on a Thursday, with my donkey, with a reservation:  Rejected</br>\n",
    "I am going on a Thursday, with my husband, without a reservation:  Rejected </br>\n",
    "\n",
    "Testing Friday: </br>\n",
    "I am going alone on a Friday, with a reservation:  Accepted</br>\n",
    "I am going on a Friday, with my wife, without a reservation:  Accepted "
   ]
  },
  {
   "cell_type": "code",
   "execution_count": null,
   "id": "3c4da43e",
   "metadata": {},
   "outputs": [],
   "source": []
  },
  {
   "cell_type": "code",
   "execution_count": null,
   "id": "ff851259",
   "metadata": {},
   "outputs": [],
   "source": []
  }
 ],
 "metadata": {
  "kernelspec": {
   "display_name": "Python 3",
   "language": "python",
   "name": "python3"
  },
  "language_info": {
   "codemirror_mode": {
    "name": "ipython",
    "version": 3
   },
   "file_extension": ".py",
   "mimetype": "text/x-python",
   "name": "python",
   "nbconvert_exporter": "python",
   "pygments_lexer": "ipython3",
   "version": "3.8.11"
  }
 },
 "nbformat": 4,
 "nbformat_minor": 5
}
